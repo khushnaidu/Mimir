{
  "nbformat": 4,
  "nbformat_minor": 0,
  "metadata": {
    "colab": {
      "provenance": [],
      "gpuType": "A100"
    },
    "kernelspec": {
      "name": "python3",
      "display_name": "Python 3"
    },
    "language_info": {
      "name": "python"
    },
    "accelerator": "GPU",
    "widgets": {
      "application/vnd.jupyter.widget-state+json": {
        "d8e89c92a2274154a919cbaf1d2cbb3a": {
          "model_module": "@jupyter-widgets/controls",
          "model_name": "HBoxModel",
          "model_module_version": "1.5.0",
          "state": {
            "_dom_classes": [],
            "_model_module": "@jupyter-widgets/controls",
            "_model_module_version": "1.5.0",
            "_model_name": "HBoxModel",
            "_view_count": null,
            "_view_module": "@jupyter-widgets/controls",
            "_view_module_version": "1.5.0",
            "_view_name": "HBoxView",
            "box_style": "",
            "children": [
              "IPY_MODEL_c8927ae397034439bfee43373c07ace0",
              "IPY_MODEL_195818486b4e41ca9350f2641634390a",
              "IPY_MODEL_07bbc7481d3e4aefaec3ff843d786e28"
            ],
            "layout": "IPY_MODEL_5bbb5c4a4e0242828acd4060d140c5ff"
          }
        },
        "c8927ae397034439bfee43373c07ace0": {
          "model_module": "@jupyter-widgets/controls",
          "model_name": "HTMLModel",
          "model_module_version": "1.5.0",
          "state": {
            "_dom_classes": [],
            "_model_module": "@jupyter-widgets/controls",
            "_model_module_version": "1.5.0",
            "_model_name": "HTMLModel",
            "_view_count": null,
            "_view_module": "@jupyter-widgets/controls",
            "_view_module_version": "1.5.0",
            "_view_name": "HTMLView",
            "description": "",
            "description_tooltip": null,
            "layout": "IPY_MODEL_c59808857c3142139f27bf2afc3dbabb",
            "placeholder": "​",
            "style": "IPY_MODEL_61e699174dea473baeb44e95f84cf1b4",
            "value": "Generating embeddings: 100%"
          }
        },
        "195818486b4e41ca9350f2641634390a": {
          "model_module": "@jupyter-widgets/controls",
          "model_name": "FloatProgressModel",
          "model_module_version": "1.5.0",
          "state": {
            "_dom_classes": [],
            "_model_module": "@jupyter-widgets/controls",
            "_model_module_version": "1.5.0",
            "_model_name": "FloatProgressModel",
            "_view_count": null,
            "_view_module": "@jupyter-widgets/controls",
            "_view_module_version": "1.5.0",
            "_view_name": "ProgressView",
            "bar_style": "success",
            "description": "",
            "description_tooltip": null,
            "layout": "IPY_MODEL_89207cfdd2564ff2bb97b795f88a3805",
            "max": 307,
            "min": 0,
            "orientation": "horizontal",
            "style": "IPY_MODEL_7947019ff56042d6b626e357ac6b10a7",
            "value": 307
          }
        },
        "07bbc7481d3e4aefaec3ff843d786e28": {
          "model_module": "@jupyter-widgets/controls",
          "model_name": "HTMLModel",
          "model_module_version": "1.5.0",
          "state": {
            "_dom_classes": [],
            "_model_module": "@jupyter-widgets/controls",
            "_model_module_version": "1.5.0",
            "_model_name": "HTMLModel",
            "_view_count": null,
            "_view_module": "@jupyter-widgets/controls",
            "_view_module_version": "1.5.0",
            "_view_name": "HTMLView",
            "description": "",
            "description_tooltip": null,
            "layout": "IPY_MODEL_2d92113bf206485cb06d2ad18065b362",
            "placeholder": "​",
            "style": "IPY_MODEL_2b121fc6692b496cbffedc4e42da339c",
            "value": " 307/307 [00:10&lt;00:00, 24.77it/s]"
          }
        },
        "5bbb5c4a4e0242828acd4060d140c5ff": {
          "model_module": "@jupyter-widgets/base",
          "model_name": "LayoutModel",
          "model_module_version": "1.2.0",
          "state": {
            "_model_module": "@jupyter-widgets/base",
            "_model_module_version": "1.2.0",
            "_model_name": "LayoutModel",
            "_view_count": null,
            "_view_module": "@jupyter-widgets/base",
            "_view_module_version": "1.2.0",
            "_view_name": "LayoutView",
            "align_content": null,
            "align_items": null,
            "align_self": null,
            "border": null,
            "bottom": null,
            "display": null,
            "flex": null,
            "flex_flow": null,
            "grid_area": null,
            "grid_auto_columns": null,
            "grid_auto_flow": null,
            "grid_auto_rows": null,
            "grid_column": null,
            "grid_gap": null,
            "grid_row": null,
            "grid_template_areas": null,
            "grid_template_columns": null,
            "grid_template_rows": null,
            "height": null,
            "justify_content": null,
            "justify_items": null,
            "left": null,
            "margin": null,
            "max_height": null,
            "max_width": null,
            "min_height": null,
            "min_width": null,
            "object_fit": null,
            "object_position": null,
            "order": null,
            "overflow": null,
            "overflow_x": null,
            "overflow_y": null,
            "padding": null,
            "right": null,
            "top": null,
            "visibility": null,
            "width": null
          }
        },
        "c59808857c3142139f27bf2afc3dbabb": {
          "model_module": "@jupyter-widgets/base",
          "model_name": "LayoutModel",
          "model_module_version": "1.2.0",
          "state": {
            "_model_module": "@jupyter-widgets/base",
            "_model_module_version": "1.2.0",
            "_model_name": "LayoutModel",
            "_view_count": null,
            "_view_module": "@jupyter-widgets/base",
            "_view_module_version": "1.2.0",
            "_view_name": "LayoutView",
            "align_content": null,
            "align_items": null,
            "align_self": null,
            "border": null,
            "bottom": null,
            "display": null,
            "flex": null,
            "flex_flow": null,
            "grid_area": null,
            "grid_auto_columns": null,
            "grid_auto_flow": null,
            "grid_auto_rows": null,
            "grid_column": null,
            "grid_gap": null,
            "grid_row": null,
            "grid_template_areas": null,
            "grid_template_columns": null,
            "grid_template_rows": null,
            "height": null,
            "justify_content": null,
            "justify_items": null,
            "left": null,
            "margin": null,
            "max_height": null,
            "max_width": null,
            "min_height": null,
            "min_width": null,
            "object_fit": null,
            "object_position": null,
            "order": null,
            "overflow": null,
            "overflow_x": null,
            "overflow_y": null,
            "padding": null,
            "right": null,
            "top": null,
            "visibility": null,
            "width": null
          }
        },
        "61e699174dea473baeb44e95f84cf1b4": {
          "model_module": "@jupyter-widgets/controls",
          "model_name": "DescriptionStyleModel",
          "model_module_version": "1.5.0",
          "state": {
            "_model_module": "@jupyter-widgets/controls",
            "_model_module_version": "1.5.0",
            "_model_name": "DescriptionStyleModel",
            "_view_count": null,
            "_view_module": "@jupyter-widgets/base",
            "_view_module_version": "1.2.0",
            "_view_name": "StyleView",
            "description_width": ""
          }
        },
        "89207cfdd2564ff2bb97b795f88a3805": {
          "model_module": "@jupyter-widgets/base",
          "model_name": "LayoutModel",
          "model_module_version": "1.2.0",
          "state": {
            "_model_module": "@jupyter-widgets/base",
            "_model_module_version": "1.2.0",
            "_model_name": "LayoutModel",
            "_view_count": null,
            "_view_module": "@jupyter-widgets/base",
            "_view_module_version": "1.2.0",
            "_view_name": "LayoutView",
            "align_content": null,
            "align_items": null,
            "align_self": null,
            "border": null,
            "bottom": null,
            "display": null,
            "flex": null,
            "flex_flow": null,
            "grid_area": null,
            "grid_auto_columns": null,
            "grid_auto_flow": null,
            "grid_auto_rows": null,
            "grid_column": null,
            "grid_gap": null,
            "grid_row": null,
            "grid_template_areas": null,
            "grid_template_columns": null,
            "grid_template_rows": null,
            "height": null,
            "justify_content": null,
            "justify_items": null,
            "left": null,
            "margin": null,
            "max_height": null,
            "max_width": null,
            "min_height": null,
            "min_width": null,
            "object_fit": null,
            "object_position": null,
            "order": null,
            "overflow": null,
            "overflow_x": null,
            "overflow_y": null,
            "padding": null,
            "right": null,
            "top": null,
            "visibility": null,
            "width": null
          }
        },
        "7947019ff56042d6b626e357ac6b10a7": {
          "model_module": "@jupyter-widgets/controls",
          "model_name": "ProgressStyleModel",
          "model_module_version": "1.5.0",
          "state": {
            "_model_module": "@jupyter-widgets/controls",
            "_model_module_version": "1.5.0",
            "_model_name": "ProgressStyleModel",
            "_view_count": null,
            "_view_module": "@jupyter-widgets/base",
            "_view_module_version": "1.2.0",
            "_view_name": "StyleView",
            "bar_color": null,
            "description_width": ""
          }
        },
        "2d92113bf206485cb06d2ad18065b362": {
          "model_module": "@jupyter-widgets/base",
          "model_name": "LayoutModel",
          "model_module_version": "1.2.0",
          "state": {
            "_model_module": "@jupyter-widgets/base",
            "_model_module_version": "1.2.0",
            "_model_name": "LayoutModel",
            "_view_count": null,
            "_view_module": "@jupyter-widgets/base",
            "_view_module_version": "1.2.0",
            "_view_name": "LayoutView",
            "align_content": null,
            "align_items": null,
            "align_self": null,
            "border": null,
            "bottom": null,
            "display": null,
            "flex": null,
            "flex_flow": null,
            "grid_area": null,
            "grid_auto_columns": null,
            "grid_auto_flow": null,
            "grid_auto_rows": null,
            "grid_column": null,
            "grid_gap": null,
            "grid_row": null,
            "grid_template_areas": null,
            "grid_template_columns": null,
            "grid_template_rows": null,
            "height": null,
            "justify_content": null,
            "justify_items": null,
            "left": null,
            "margin": null,
            "max_height": null,
            "max_width": null,
            "min_height": null,
            "min_width": null,
            "object_fit": null,
            "object_position": null,
            "order": null,
            "overflow": null,
            "overflow_x": null,
            "overflow_y": null,
            "padding": null,
            "right": null,
            "top": null,
            "visibility": null,
            "width": null
          }
        },
        "2b121fc6692b496cbffedc4e42da339c": {
          "model_module": "@jupyter-widgets/controls",
          "model_name": "DescriptionStyleModel",
          "model_module_version": "1.5.0",
          "state": {
            "_model_module": "@jupyter-widgets/controls",
            "_model_module_version": "1.5.0",
            "_model_name": "DescriptionStyleModel",
            "_view_count": null,
            "_view_module": "@jupyter-widgets/base",
            "_view_module_version": "1.2.0",
            "_view_name": "StyleView",
            "description_width": ""
          }
        }
      }
    }
  },
  "cells": [
    {
      "cell_type": "markdown",
      "source": [
        "# Reddit Post Embedding Generation\n",
        "\n",
        "This notebook generates embeddings for Reddit political posts using SentenceTransformers. It's designed to run on Google Colab with GPU support."
      ],
      "metadata": {
        "id": "jaZFQOzPmQLw"
      }
    },
    {
      "cell_type": "code",
      "execution_count": 1,
      "metadata": {
        "colab": {
          "base_uri": "https://localhost:8080/"
        },
        "id": "V1WbnhL1kfA-",
        "outputId": "91e28c2c-6bc2-460c-8e23-e5b9f3d2bcc5"
      },
      "outputs": [
        {
          "output_type": "stream",
          "name": "stdout",
          "text": [
            "Requirement already satisfied: sentence-transformers in /usr/local/lib/python3.11/dist-packages (3.4.1)\n",
            "Requirement already satisfied: tqdm in /usr/local/lib/python3.11/dist-packages (4.67.1)\n",
            "Requirement already satisfied: transformers<5.0.0,>=4.41.0 in /usr/local/lib/python3.11/dist-packages (from sentence-transformers) (4.51.3)\n",
            "Requirement already satisfied: torch>=1.11.0 in /usr/local/lib/python3.11/dist-packages (from sentence-transformers) (2.6.0+cu124)\n",
            "Requirement already satisfied: scikit-learn in /usr/local/lib/python3.11/dist-packages (from sentence-transformers) (1.6.1)\n",
            "Requirement already satisfied: scipy in /usr/local/lib/python3.11/dist-packages (from sentence-transformers) (1.15.2)\n",
            "Requirement already satisfied: huggingface-hub>=0.20.0 in /usr/local/lib/python3.11/dist-packages (from sentence-transformers) (0.30.2)\n",
            "Requirement already satisfied: Pillow in /usr/local/lib/python3.11/dist-packages (from sentence-transformers) (11.2.1)\n",
            "Requirement already satisfied: filelock in /usr/local/lib/python3.11/dist-packages (from huggingface-hub>=0.20.0->sentence-transformers) (3.18.0)\n",
            "Requirement already satisfied: fsspec>=2023.5.0 in /usr/local/lib/python3.11/dist-packages (from huggingface-hub>=0.20.0->sentence-transformers) (2025.3.2)\n",
            "Requirement already satisfied: packaging>=20.9 in /usr/local/lib/python3.11/dist-packages (from huggingface-hub>=0.20.0->sentence-transformers) (24.2)\n",
            "Requirement already satisfied: pyyaml>=5.1 in /usr/local/lib/python3.11/dist-packages (from huggingface-hub>=0.20.0->sentence-transformers) (6.0.2)\n",
            "Requirement already satisfied: requests in /usr/local/lib/python3.11/dist-packages (from huggingface-hub>=0.20.0->sentence-transformers) (2.32.3)\n",
            "Requirement already satisfied: typing-extensions>=3.7.4.3 in /usr/local/lib/python3.11/dist-packages (from huggingface-hub>=0.20.0->sentence-transformers) (4.13.2)\n",
            "Requirement already satisfied: networkx in /usr/local/lib/python3.11/dist-packages (from torch>=1.11.0->sentence-transformers) (3.4.2)\n",
            "Requirement already satisfied: jinja2 in /usr/local/lib/python3.11/dist-packages (from torch>=1.11.0->sentence-transformers) (3.1.6)\n",
            "Requirement already satisfied: nvidia-cuda-nvrtc-cu12==12.4.127 in /usr/local/lib/python3.11/dist-packages (from torch>=1.11.0->sentence-transformers) (12.4.127)\n",
            "Requirement already satisfied: nvidia-cuda-runtime-cu12==12.4.127 in /usr/local/lib/python3.11/dist-packages (from torch>=1.11.0->sentence-transformers) (12.4.127)\n",
            "Requirement already satisfied: nvidia-cuda-cupti-cu12==12.4.127 in /usr/local/lib/python3.11/dist-packages (from torch>=1.11.0->sentence-transformers) (12.4.127)\n",
            "Requirement already satisfied: nvidia-cudnn-cu12==9.1.0.70 in /usr/local/lib/python3.11/dist-packages (from torch>=1.11.0->sentence-transformers) (9.1.0.70)\n",
            "Requirement already satisfied: nvidia-cublas-cu12==12.4.5.8 in /usr/local/lib/python3.11/dist-packages (from torch>=1.11.0->sentence-transformers) (12.4.5.8)\n",
            "Requirement already satisfied: nvidia-cufft-cu12==11.2.1.3 in /usr/local/lib/python3.11/dist-packages (from torch>=1.11.0->sentence-transformers) (11.2.1.3)\n",
            "Requirement already satisfied: nvidia-curand-cu12==10.3.5.147 in /usr/local/lib/python3.11/dist-packages (from torch>=1.11.0->sentence-transformers) (10.3.5.147)\n",
            "Requirement already satisfied: nvidia-cusolver-cu12==11.6.1.9 in /usr/local/lib/python3.11/dist-packages (from torch>=1.11.0->sentence-transformers) (11.6.1.9)\n",
            "Requirement already satisfied: nvidia-cusparse-cu12==12.3.1.170 in /usr/local/lib/python3.11/dist-packages (from torch>=1.11.0->sentence-transformers) (12.3.1.170)\n",
            "Requirement already satisfied: nvidia-cusparselt-cu12==0.6.2 in /usr/local/lib/python3.11/dist-packages (from torch>=1.11.0->sentence-transformers) (0.6.2)\n",
            "Requirement already satisfied: nvidia-nccl-cu12==2.21.5 in /usr/local/lib/python3.11/dist-packages (from torch>=1.11.0->sentence-transformers) (2.21.5)\n",
            "Requirement already satisfied: nvidia-nvtx-cu12==12.4.127 in /usr/local/lib/python3.11/dist-packages (from torch>=1.11.0->sentence-transformers) (12.4.127)\n",
            "Requirement already satisfied: nvidia-nvjitlink-cu12==12.4.127 in /usr/local/lib/python3.11/dist-packages (from torch>=1.11.0->sentence-transformers) (12.4.127)\n",
            "Requirement already satisfied: triton==3.2.0 in /usr/local/lib/python3.11/dist-packages (from torch>=1.11.0->sentence-transformers) (3.2.0)\n",
            "Requirement already satisfied: sympy==1.13.1 in /usr/local/lib/python3.11/dist-packages (from torch>=1.11.0->sentence-transformers) (1.13.1)\n",
            "Requirement already satisfied: mpmath<1.4,>=1.1.0 in /usr/local/lib/python3.11/dist-packages (from sympy==1.13.1->torch>=1.11.0->sentence-transformers) (1.3.0)\n",
            "Requirement already satisfied: numpy>=1.17 in /usr/local/lib/python3.11/dist-packages (from transformers<5.0.0,>=4.41.0->sentence-transformers) (2.0.2)\n",
            "Requirement already satisfied: regex!=2019.12.17 in /usr/local/lib/python3.11/dist-packages (from transformers<5.0.0,>=4.41.0->sentence-transformers) (2024.11.6)\n",
            "Requirement already satisfied: tokenizers<0.22,>=0.21 in /usr/local/lib/python3.11/dist-packages (from transformers<5.0.0,>=4.41.0->sentence-transformers) (0.21.1)\n",
            "Requirement already satisfied: safetensors>=0.4.3 in /usr/local/lib/python3.11/dist-packages (from transformers<5.0.0,>=4.41.0->sentence-transformers) (0.5.3)\n",
            "Requirement already satisfied: joblib>=1.2.0 in /usr/local/lib/python3.11/dist-packages (from scikit-learn->sentence-transformers) (1.4.2)\n",
            "Requirement already satisfied: threadpoolctl>=3.1.0 in /usr/local/lib/python3.11/dist-packages (from scikit-learn->sentence-transformers) (3.6.0)\n",
            "Requirement already satisfied: MarkupSafe>=2.0 in /usr/local/lib/python3.11/dist-packages (from jinja2->torch>=1.11.0->sentence-transformers) (3.0.2)\n",
            "Requirement already satisfied: charset-normalizer<4,>=2 in /usr/local/lib/python3.11/dist-packages (from requests->huggingface-hub>=0.20.0->sentence-transformers) (3.4.1)\n",
            "Requirement already satisfied: idna<4,>=2.5 in /usr/local/lib/python3.11/dist-packages (from requests->huggingface-hub>=0.20.0->sentence-transformers) (3.10)\n",
            "Requirement already satisfied: urllib3<3,>=1.21.1 in /usr/local/lib/python3.11/dist-packages (from requests->huggingface-hub>=0.20.0->sentence-transformers) (2.4.0)\n",
            "Requirement already satisfied: certifi>=2017.4.17 in /usr/local/lib/python3.11/dist-packages (from requests->huggingface-hub>=0.20.0->sentence-transformers) (2025.4.26)\n"
          ]
        }
      ],
      "source": [
        "#Install required packages\n",
        "!pip install sentence-transformers tqdm"
      ]
    },
    {
      "cell_type": "code",
      "source": [
        "# Mount Google Drive\n",
        "from google.colab import drive\n",
        "drive.mount('/content/drive')"
      ],
      "metadata": {
        "colab": {
          "base_uri": "https://localhost:8080/"
        },
        "id": "2UVEyL5PmjdP",
        "outputId": "f28b1f20-7991-4646-d835-d804a129d3a1"
      },
      "execution_count": 2,
      "outputs": [
        {
          "output_type": "stream",
          "name": "stdout",
          "text": [
            "Drive already mounted at /content/drive; to attempt to forcibly remount, call drive.mount(\"/content/drive\", force_remount=True).\n"
          ]
        }
      ]
    },
    {
      "cell_type": "code",
      "source": [
        "import os\n",
        "import json\n",
        "import numpy as np\n",
        "import torch\n",
        "from sentence_transformers import SentenceTransformer\n",
        "from tqdm.notebook import tqdm\n",
        "import logging\n",
        "from datetime import datetime\n",
        "from pathlib import Path\n",
        "import pandas as pd\n",
        "import matplotlib.pyplot as plt\n",
        "import seaborn as sns\n",
        "\n",
        "# Configure logging\n",
        "logging.basicConfig(\n",
        "    level=logging.INFO,\n",
        "    format='%(asctime)s - %(name)s - %(levelname)s - %(message)s'\n",
        ")\n",
        "logger = logging.getLogger(__name__)"
      ],
      "metadata": {
        "id": "ElXlreYpm6XI"
      },
      "execution_count": 3,
      "outputs": []
    },
    {
      "cell_type": "code",
      "source": [
        "class EmbeddingGenerator:\n",
        "    def __init__(self, model_name: str = 'all-MiniLM-L6-v2'):\n",
        "        self.device = 'cuda' if torch.cuda.is_available() else 'cpu'\n",
        "        logger.info(f\"Using device: {self.device}\")\n",
        "\n",
        "        self.model = SentenceTransformer(model_name, device=self.device)\n",
        "        self.model_name = model_name  # Store model name separately\n",
        "        logger.info(f\"Loaded model: {model_name}\")\n",
        "\n",
        "        self.batch_size = 32 if self.device == 'cuda' else 16\n",
        "\n",
        "    def prepare_texts(self, posts: list) -> list:\n",
        "        texts = []\n",
        "        for post in posts:\n",
        "            text = f\"Title: {post['title']}\\n\\nContent: {post['text']}\"\n",
        "            texts.append(text)\n",
        "        return texts\n",
        "\n",
        "    def generate_embeddings(self, posts: list, batch_size: int = None) -> np.ndarray:\n",
        "        if batch_size is None:\n",
        "            batch_size = self.batch_size\n",
        "\n",
        "        texts = self.prepare_texts(posts)\n",
        "        logger.info(f\"Generating embeddings for {len(texts)} posts\")\n",
        "\n",
        "        embeddings = []\n",
        "        for i in tqdm(range(0, len(texts), batch_size), desc=\"Generating embeddings\"):\n",
        "            batch_texts = texts[i:i + batch_size]\n",
        "            batch_embeddings = self.model.encode(\n",
        "                batch_texts,\n",
        "                convert_to_numpy=True,\n",
        "                show_progress_bar=False\n",
        "            )\n",
        "            embeddings.append(batch_embeddings)\n",
        "\n",
        "        return np.vstack(embeddings)\n",
        "\n",
        "    def save_data(self, posts: list, embeddings: np.ndarray, output_dir: str):\n",
        "        output_dir = Path(output_dir)\n",
        "        output_dir.mkdir(parents=True, exist_ok=True)\n",
        "\n",
        "        # Save embeddings\n",
        "        embeddings_path = output_dir / 'reddit_embeddings.npy'\n",
        "        np.save(embeddings_path, embeddings)\n",
        "        logger.info(f\"Saved embeddings to {embeddings_path}\")\n",
        "\n",
        "        # Save metadata\n",
        "        metadata = {\n",
        "            'total_posts': len(posts),\n",
        "            'embedding_dimension': embeddings.shape[1],\n",
        "            'generated_at': datetime.now().isoformat(),\n",
        "            'model_name': self.model_name,  # Use stored model name\n",
        "            'post_types': {\n",
        "                'recent': len([p for p in posts if p.get('source') == 'recent']),\n",
        "                'archive': len([p for p in posts if p.get('source') == 'archive'])\n",
        "            },\n",
        "            'topics': list(set(p.get('topic') for p in posts if p.get('topic'))),\n",
        "            'subreddits': list(set(p.get('subreddit') for p in posts))\n",
        "        }\n",
        "\n",
        "        metadata_path = output_dir / 'embedding_metadata.json'\n",
        "        with open(metadata_path, 'w') as f:\n",
        "            json.dump(metadata, f, indent=2)\n",
        "        logger.info(f\"Saved metadata to {metadata_path}\")\n",
        "\n",
        "        # Save posts with their embeddings\n",
        "        posts_with_embeddings = []\n",
        "        for i, post in enumerate(posts):\n",
        "            post_data = post.copy()\n",
        "            post_data['embedding_index'] = i\n",
        "            posts_with_embeddings.append(post_data)\n",
        "\n",
        "        posts_path = output_dir / 'reddit_posts_with_embeddings.json'\n",
        "        with open(posts_path, 'w') as f:\n",
        "            json.dump(posts_with_embeddings, f, indent=2)\n",
        "        logger.info(f\"Saved posts with embedding indices to {posts_path}\")"
      ],
      "metadata": {
        "id": "_Gchdv9dnCh7"
      },
      "execution_count": 4,
      "outputs": []
    },
    {
      "cell_type": "code",
      "source": [
        "# Set paths\n",
        "base_path = '/content/drive/MyDrive/MimirTool'\n",
        "data_path = Path(base_path) / 'app/data'\n",
        "output_path = Path(base_path) / 'app/data/embeddings'\n",
        "\n",
        "# Find the most recent data file\n",
        "data_files = list(data_path.glob('reddit_political_posts_*.json'))\n",
        "if not data_files:\n",
        "    raise FileNotFoundError(\"No data files found\")\n",
        "\n",
        "latest_file = max(data_files, key=lambda x: x.stat().st_mtime)\n",
        "logger.info(f\"Using data file: {latest_file}\")\n",
        "\n",
        "# Load posts\n",
        "with open(latest_file) as f:\n",
        "    data = json.load(f)\n",
        "    posts = data['posts']\n",
        "\n",
        "print(f\"Loaded {len(posts)} posts\")"
      ],
      "metadata": {
        "id": "RSC8OM-qnMe7",
        "colab": {
          "base_uri": "https://localhost:8080/"
        },
        "outputId": "c479b9b5-a02d-437b-9245-7c25cd9640c0"
      },
      "execution_count": 5,
      "outputs": [
        {
          "output_type": "stream",
          "name": "stdout",
          "text": [
            "Loaded 9808 posts\n"
          ]
        }
      ]
    },
    {
      "cell_type": "code",
      "source": [
        "# Initialize generator\n",
        "generator = EmbeddingGenerator()\n",
        "\n",
        "# Generate embeddings\n",
        "embeddings = generator.generate_embeddings(posts)"
      ],
      "metadata": {
        "colab": {
          "base_uri": "https://localhost:8080/",
          "height": 176,
          "referenced_widgets": [
            "d8e89c92a2274154a919cbaf1d2cbb3a",
            "c8927ae397034439bfee43373c07ace0",
            "195818486b4e41ca9350f2641634390a",
            "07bbc7481d3e4aefaec3ff843d786e28",
            "5bbb5c4a4e0242828acd4060d140c5ff",
            "c59808857c3142139f27bf2afc3dbabb",
            "61e699174dea473baeb44e95f84cf1b4",
            "89207cfdd2564ff2bb97b795f88a3805",
            "7947019ff56042d6b626e357ac6b10a7",
            "2d92113bf206485cb06d2ad18065b362",
            "2b121fc6692b496cbffedc4e42da339c"
          ]
        },
        "id": "pfqyw7exotEj",
        "outputId": "4e1e3b68-950d-4e59-f0c9-ab4b6ae4cc1e"
      },
      "execution_count": 6,
      "outputs": [
        {
          "output_type": "stream",
          "name": "stderr",
          "text": [
            "/usr/local/lib/python3.11/dist-packages/huggingface_hub/utils/_auth.py:94: UserWarning: \n",
            "The secret `HF_TOKEN` does not exist in your Colab secrets.\n",
            "To authenticate with the Hugging Face Hub, create a token in your settings tab (https://huggingface.co/settings/tokens), set it as secret in your Google Colab and restart your session.\n",
            "You will be able to reuse this secret in all of your notebooks.\n",
            "Please note that authentication is recommended but still optional to access public models or datasets.\n",
            "  warnings.warn(\n"
          ]
        },
        {
          "output_type": "display_data",
          "data": {
            "text/plain": [
              "Generating embeddings:   0%|          | 0/307 [00:00<?, ?it/s]"
            ],
            "application/vnd.jupyter.widget-view+json": {
              "version_major": 2,
              "version_minor": 0,
              "model_id": "d8e89c92a2274154a919cbaf1d2cbb3a"
            }
          },
          "metadata": {}
        }
      ]
    },
    {
      "cell_type": "code",
      "source": [
        "# Save data\n",
        "generator.save_data(posts, embeddings, output_path)\n",
        "\n",
        "# Create visualizations\n",
        "plt.figure(figsize=(15, 10))\n",
        "\n",
        "# Plot 1: Post Distribution by Source\n",
        "plt.subplot(2, 2, 1)\n",
        "source_counts = pd.Series([p.get('source', 'unknown') for p in posts]).value_counts()\n",
        "source_counts.plot(kind='bar')\n",
        "plt.title('Post Distribution by Source')\n",
        "plt.xlabel('Source')\n",
        "plt.ylabel('Count')\n",
        "\n",
        "# Plot 2: Post Distribution by Subreddit\n",
        "plt.subplot(2, 2, 2)\n",
        "subreddit_counts = pd.Series([p.get('subreddit', 'unknown') for p in posts]).value_counts()\n",
        "subreddit_counts.plot(kind='bar')\n",
        "plt.title('Post Distribution by Subreddit')\n",
        "plt.xticks(rotation=45)\n",
        "plt.xlabel('Subreddit')\n",
        "plt.ylabel('Count')\n",
        "\n",
        "# Plot 3: Score Distribution\n",
        "plt.subplot(2, 2, 3)\n",
        "scores = [p.get('score', 0) for p in posts]\n",
        "plt.hist(scores, bins=50)\n",
        "plt.title('Score Distribution')\n",
        "plt.xlabel('Score')\n",
        "plt.ylabel('Count')\n",
        "\n",
        "# Plot 4: Comment Count Distribution\n",
        "plt.subplot(2, 2, 4)\n",
        "comment_counts = [p.get('num_comments', 0) for p in posts]\n",
        "plt.hist(comment_counts, bins=50)\n",
        "plt.title('Comment Count Distribution')\n",
        "plt.xlabel('Number of Comments')\n",
        "plt.ylabel('Count')\n",
        "\n",
        "plt.tight_layout()\n",
        "plt.show()\n",
        "\n",
        "# Print summary\n",
        "print(\"\\n=== Embedding Generation Summary ===\")\n",
        "print(f\"\\nTotal posts processed: {len(posts)}\")\n",
        "print(f\"Embedding dimension: {embeddings.shape[1]}\")\n",
        "print(f\"Output directory: {output_path}\")\n",
        "\n",
        "if torch.cuda.is_available():\n",
        "    print(f\"\\nGPU Memory Usage:\")\n",
        "    print(f\"Allocated: {torch.cuda.memory_allocated() / 1024**2:.2f} MB\")\n",
        "    print(f\"Cached: {torch.cuda.memory_reserved() / 1024**2:.2f} MB\")"
      ],
      "metadata": {
        "colab": {
          "base_uri": "https://localhost:8080/",
          "height": 1000
        },
        "id": "27BXZssLo1zj",
        "outputId": "fef2c102-2654-48c1-da12-655e11cc7c1e"
      },
      "execution_count": 7,
      "outputs": [
        {
          "output_type": "display_data",
          "data": {
            "text/plain": [
              "<Figure size 1500x1000 with 4 Axes>"
            ],
            "image/png": "[encoded data removed]"
          },
          "metadata": {}
        },
        {
          "output_type": "stream",
          "name": "stdout",
          "text": [
            "\n",
            "=== Embedding Generation Summary ===\n",
            "\n",
            "Total posts processed: 9808\n",
            "Embedding dimension: 384\n",
            "Output directory: /content/drive/MyDrive/MimirTool/app/data/embeddings\n",
            "\n",
            "GPU Memory Usage:\n",
            "Allocated: 94.78 MB\n",
            "Cached: 372.00 MB\n"
          ]
        }
      ]
    }
  ]
}